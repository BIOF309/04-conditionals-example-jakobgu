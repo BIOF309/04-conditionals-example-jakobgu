{
 "cells": [
  {
   "cell_type": "markdown",
   "metadata": {},
   "source": [
    "## What I think in the morning when the alarm rings."
   ]
  },
  {
   "cell_type": "code",
   "execution_count": 2,
   "metadata": {},
   "outputs": [],
   "source": [
    "from ipywidgets import widgets\n",
    "from ipywidgets import interact"
   ]
  },
  {
   "cell_type": "code",
   "execution_count": 14,
   "metadata": {},
   "outputs": [
    {
     "data": {
      "application/vnd.jupyter.widget-view+json": {
       "model_id": "bdec269538ef4ea9a3f223bf3b15c49a",
       "version_major": 2,
       "version_minor": 0
      },
      "text/html": [
       "<p>Failed to display Jupyter Widget of type <code>Text</code>.</p>\n",
       "<p>\n",
       "  If you're reading this message in Jupyter Notebook or JupyterLab, it may mean\n",
       "  that the widgets JavaScript is still loading. If this message persists, it\n",
       "  likely means that the widgets JavaScript library is either not installed or\n",
       "  not enabled. See the <a href=\"https://ipywidgets.readthedocs.io/en/stable/user_install.html\">Jupyter\n",
       "  Widgets Documentation</a> for setup instructions.\n",
       "</p>\n",
       "<p>\n",
       "  If you're reading this message in another notebook frontend (for example, a static\n",
       "  rendering on GitHub or <a href=\"https://nbviewer.jupyter.org/\">NBViewer</a>),\n",
       "  it may mean that your frontend doesn't currently support widgets.\n",
       "</p>\n"
      ],
      "text/plain": [
       "Text(value='')"
      ]
     },
     "metadata": {},
     "output_type": "display_data"
    }
   ],
   "source": [
    "days = ['Monday', 'Tuesday', 'Wednesday', 'Thursday', 'Friday', 'Saturday', 'Sunday']\n",
    "\n",
    "current_day = widgets.Text()\n",
    "display(current_day)\n",
    "\n",
    "def handle_submit(sender):\n",
    "        if (current_day.value.capitalize()) == days[0]:\n",
    "            print(\"\\nDamn, I hate Mondays. But I guess I can sleep for another 15 minutes...\")\n",
    "        elif (current_day.value.capitalize()) == days[1]:\n",
    "            print(\"\\nI survived Monday, I guess I can tackle Tuesday.\")\n",
    "        elif (current_day.value.capitalize()) == days[2]:\n",
    "            print(\"\\nYay, humpday! Plus, it's Indian-food-day in the Building 35 cafeteria!.\")\n",
    "        elif (current_day.value.capitalize()) == days[3]:\n",
    "            print(\"\\nThursday ain't too bad. The weekend is bright on the horizon.\")\n",
    "        elif (current_day.value.capitalize()) == days[4]:\n",
    "            print(\"\\nOh, crap, I better get up, else I'll be late for lab meeting\")\n",
    "        elif ((current_day.value.capitalize()) == days[5]) | ((current_day.value.capitalize()) == days[6]):\n",
    "            print(\"\\nWeekend! I can sleep as long as I want! Oh wait, I have a toddler. I guess I'll better get up and make coffee...\")\n",
    "        else :\n",
    "            print(\"\\nAre you sure you typed in the name of a day? And don't all-caps yell at me!\")\n",
    "\n",
    "current_day.on_submit(handle_submit)\n"
   ]
  },
  {
   "cell_type": "code",
   "execution_count": null,
   "metadata": {},
   "outputs": [],
   "source": []
  }
 ],
 "metadata": {
  "kernelspec": {
   "display_name": "Python [conda env:biof309]",
   "language": "python",
   "name": "conda-env-biof309-py"
  },
  "language_info": {
   "codemirror_mode": {
    "name": "ipython",
    "version": 3
   },
   "file_extension": ".py",
   "mimetype": "text/x-python",
   "name": "python",
   "nbconvert_exporter": "python",
   "pygments_lexer": "ipython3",
   "version": "3.6.3"
  }
 },
 "nbformat": 4,
 "nbformat_minor": 2
}
